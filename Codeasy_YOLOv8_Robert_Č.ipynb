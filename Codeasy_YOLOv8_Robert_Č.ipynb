{
  "nbformat": 4,
  "nbformat_minor": 0,
  "metadata": {
    "colab": {
      "provenance": []
    },
    "kernelspec": {
      "name": "python3",
      "display_name": "Python 3"
    },
    "language_info": {
      "name": "python"
    }
  },
  "cells": [
    {
      "cell_type": "markdown",
      "source": [
        "# Codeasy Task - YOLOv8"
      ],
      "metadata": {
        "id": "N4MEq9GDnamL"
      }
    },
    {
      "cell_type": "markdown",
      "source": [
        "To start with, install the [Ultralytics](https://github.com/ultralytics/ultralytics) and [Fiftyone](https://docs.voxel51.com/getting_started/install.html)."
      ],
      "metadata": {
        "id": "sUDfYNh7zmUX"
      }
    },
    {
      "cell_type": "code",
      "execution_count": null,
      "metadata": {
        "id": "7FI-BnUDTBuZ"
      },
      "outputs": [],
      "source": [
        "!pip install fiftyone ultralytics"
      ]
    },
    {
      "cell_type": "markdown",
      "source": [
        "After succesfully installing the required packages, import the necessary libraries."
      ],
      "metadata": {
        "id": "nMPph4SgTGHd"
      }
    },
    {
      "cell_type": "code",
      "source": [
        "import fiftyone as fo\n",
        "import fiftyone.zoo as foz\n",
        "from fiftyone import ViewField as F\n",
        "import numpy as np\n",
        "import os"
      ],
      "metadata": {
        "id": "nVMjrqkhTC8K"
      },
      "execution_count": null,
      "outputs": []
    },
    {
      "cell_type": "markdown",
      "source": [
        "From ultralytics, YOLOv8 model will be imported, downloaded, in this case that is yolov8n model."
      ],
      "metadata": {
        "id": "a1JTQqsnCwrP"
      }
    },
    {
      "cell_type": "code",
      "source": [
        "from ultralytics import YOLO\n",
        "\n",
        "detection_model = YOLO(\"yolov8n.pt\")"
      ],
      "metadata": {
        "id": "OQZBCOlSWcdo"
      },
      "execution_count": null,
      "outputs": []
    },
    {
      "cell_type": "markdown",
      "source": [
        "As the data that will be used is not in format of YOLOv8 (YOLOv5) requirements, custom function that uses Fiftyone export function will be use to export it in the desired format."
      ],
      "metadata": {
        "id": "G8viCuaLDCsH"
      }
    },
    {
      "cell_type": "code",
      "source": [
        "# custom function which exports the data in yolo format\n",
        "def export_yolo_data(\n",
        "    samples,\n",
        "    export_dir,\n",
        "    classes,\n",
        "    label_field = \"ground_truth\",\n",
        "    split = None\n",
        "    ):\n",
        "\n",
        "    if type(split) == list:\n",
        "        splits = split\n",
        "        for split in splits:\n",
        "            export_yolo_data(\n",
        "                samples,\n",
        "                export_dir,\n",
        "                classes,\n",
        "                label_field,\n",
        "                split\n",
        "            )\n",
        "    else:\n",
        "        if split is None:\n",
        "            split_view = samples\n",
        "            split = \"val\"\n",
        "        else:\n",
        "            split_view = samples.match_tags(split)\n",
        "\n",
        "        split_view.export(\n",
        "            export_dir=export_dir,\n",
        "            dataset_type=fo.types.YOLOv5Dataset,\n",
        "            label_field=label_field,\n",
        "            classes=classes,\n",
        "            split=split\n",
        "        )"
      ],
      "metadata": {
        "id": "0F_mz_9KYDyS"
      },
      "execution_count": 4,
      "outputs": []
    },
    {
      "cell_type": "markdown",
      "source": [
        "To access the data that will be used in this project, library Fiftyone.zoo will be used and its load_zoo_dataset function which has the Open Images v7 dataset. While the dataset contains millions of pictures, for the training of the model that will be used in this project, only 2 classes will be needed, that being Owl and Sheep. To only get the pictures that contain the desired classes, in the classes variable we insert the desired classes and after map the dataset adding the \"ground_truth\" and giving the classes of \"Owl\" and \"Sheep\" a new class name of \"owl\" and \"sheep\". Name of the class can be change to anything user wants as the name."
      ],
      "metadata": {
        "id": "td6-_FIwDzZb"
      }
    },
    {
      "cell_type": "code",
      "source": [
        "# creating the custom dataset\n",
        "custom_dataset = foz.load_zoo_dataset(\n",
        "    \"open-images-v7\",\n",
        "    classes = [\"Owl\", \"Sheep\"],\n",
        "    only_matching=True,\n",
        "    label_types=\"detections\"\n",
        ").map_labels(\n",
        "    \"ground_truth\",\n",
        "    {\"Owl\": \"owl\",\n",
        "     \"Sheep\": \"sheep\"\n",
        "     }\n",
        ")"
      ],
      "metadata": {
        "id": "QusowbwXVVUo"
      },
      "execution_count": null,
      "outputs": []
    },
    {
      "cell_type": "markdown",
      "source": [
        "So the dataset doesn't get deleted, using persisent = True on the dataset will keep it even if the database is shut down."
      ],
      "metadata": {
        "id": "Tn1KSNzzFm3b"
      }
    },
    {
      "cell_type": "code",
      "source": [
        "custom_dataset.persistent = True"
      ],
      "metadata": {
        "id": "fbiKbpJtVVSm"
      },
      "execution_count": 6,
      "outputs": []
    },
    {
      "cell_type": "markdown",
      "source": [
        "After making the dataset that contains the relevant pictures, next task is to split the dataset to train set and validation set, in this case in ratio of 0.8 and 0.2. First the tags are deleted and after that random split is called so the data is randomized in each set giving the model better representaion of data. After that, already mentioned function which exports the sets in YOLO format is called and custom_train dataset is made with only 2 specified classes and train/val split."
      ],
      "metadata": {
        "id": "4t5E_7oYGcjM"
      }
    },
    {
      "cell_type": "code",
      "source": [
        "import fiftyone.utils.random as fornd\n",
        "\n",
        "classes = [\"owl\", \"sheep\"]\n",
        "\n",
        "## delete existing tags to start fresh\n",
        "custom_dataset.untag_samples(custom_dataset.distinct(\"tags\"))\n",
        "\n",
        "## split into train and val\n",
        "fornd.random_split(\n",
        "    custom_dataset,\n",
        "    {\"train\": 0.8, \"val\": 0.2}\n",
        ")\n",
        "\n",
        "## export in YOLO format\n",
        "export_yolo_data(\n",
        "    custom_dataset,\n",
        "    \"custom_train\",\n",
        "    classes,\n",
        "    split = [\"train\", \"val\"]\n",
        ")"
      ],
      "metadata": {
        "id": "C-7jyNOBVVQb"
      },
      "execution_count": null,
      "outputs": []
    },
    {
      "cell_type": "markdown",
      "source": [
        "After the dataset to train model is ready, using the !yolo command and attributes such as:\n",
        "*   task - what model needs to do\n",
        "*   mode - in which mode the model is set\n",
        "*   model - which model is used to train\n",
        "*   data - specifies the path to the dataset configuration file\n",
        "*   epochs - number of training epochs, in this example dataset will be passed through the model 2 times during training.\n",
        "*   imgsz - sets the input image size for training, in this exampled it is set to 640x640 pixels\n",
        "*   batch - specifies how many samples, images will be processed in each iteration or batch during training, in this example it is set to 16 which means that the model will process 16 images in parallel before updating its weights based on the computed gradients.\n",
        "\n",
        "\n",
        "\n",
        "\n",
        "\n"
      ],
      "metadata": {
        "id": "lFIa8cgyJy0b"
      }
    },
    {
      "cell_type": "code",
      "source": [
        "!yolo task=detect mode=train model=yolov8n.pt data=custom_train/dataset.yaml epochs=2 imgsz=640 batch=16"
      ],
      "metadata": {
        "id": "b6KOoJ5NVVOZ"
      },
      "execution_count": null,
      "outputs": []
    },
    {
      "cell_type": "markdown",
      "source": [
        "After training is complete, model that performed the best on validation set is saved as the best.pt as well as the last.pt model and are ready to be used or further trained again to get better results."
      ],
      "metadata": {
        "id": "RCo5yTdBNiLA"
      }
    },
    {
      "cell_type": "code",
      "source": [
        "# saving the best.pt model in variable model\n",
        "model = YOLO('/content/runs/detect/train/weights/best.pt')"
      ],
      "metadata": {
        "id": "XMtgaJyCc-Sv"
      },
      "execution_count": 10,
      "outputs": []
    },
    {
      "cell_type": "markdown",
      "source": [
        "As the Google Colab deletes the files after session, exporting the model and saving it on your local computer or cloud server will allow for further uses even after this session is over. In this project model will be exported in default settings, further information on exporting can be found [here](https://docs.ultralytics.com/modes/export/#export-formats)."
      ],
      "metadata": {
        "id": "JGXNg7GiN9XM"
      }
    },
    {
      "cell_type": "code",
      "source": [
        "# exporting model\n",
        "model.export()"
      ],
      "metadata": {
        "id": "8MDZ_nOdVVMK"
      },
      "execution_count": null,
      "outputs": []
    },
    {
      "cell_type": "markdown",
      "source": [
        "Model can be tested on a simple picture using the !yolo command and atributes such as:\n",
        "\n",
        "\n",
        "*   model - model used to predict\n",
        "*   source - specifies the path to the image/video source"
      ],
      "metadata": {
        "id": "9rjb3PNCO5K5"
      }
    },
    {
      "cell_type": "code",
      "source": [
        "!yolo predict model=\"/content/runs/detect/train/weights/best.pt\" source='/content/test2.jpeg'"
      ],
      "metadata": {
        "id": "mzI7ypOuVVJn"
      },
      "execution_count": null,
      "outputs": []
    },
    {
      "cell_type": "markdown",
      "source": [
        "Test result can be accessed in the runs/detect/predict folder."
      ],
      "metadata": {
        "id": "yboOSs9hPebF"
      }
    }
  ]
}